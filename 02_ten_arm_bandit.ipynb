{
 "cells": [
  {
   "cell_type": "code",
   "execution_count": 1,
   "metadata": {
    "collapsed": true
   },
   "outputs": [],
   "source": [
    "import numpy as np\n",
    "import matplotlib.pyplot as plt\n",
    "import seaborn as sbn\n",
    "import datetime\n",
    "\n",
    "sbn.set()"
   ]
  },
  {
   "cell_type": "markdown",
   "metadata": {},
   "source": [
    "### Model the Bandit"
   ]
  },
  {
   "cell_type": "code",
   "execution_count": 2,
   "metadata": {
    "collapsed": true
   },
   "outputs": [],
   "source": [
    "class OneBandit:\n",
    "    \n",
    "    def __init__(self):\n",
    "        np.random.seed(np.random.randint(0, 2**32-1))\n",
    "        self._actual_reward = np.random.randn()\n",
    "        \n",
    "    def pull_the_lever(self):\n",
    "        return np.random.randn() + self._actual_reward\n",
    "        "
   ]
  },
  {
   "cell_type": "markdown",
   "metadata": {},
   "source": [
    "### Let's check a sample distribution of executing this Bandit"
   ]
  },
  {
   "cell_type": "code",
   "execution_count": 3,
   "metadata": {},
   "outputs": [
    {
     "data": {
      "image/png": "[encoded data removed]",
      "text/plain": [
       "<matplotlib.figure.Figure at 0x7f7779782fd0>"
      ]
     },
     "metadata": {},
     "output_type": "display_data"
    }
   ],
   "source": [
    "ob = OneBandit()\n",
    "data = []\n",
    "for i in range(10000):\n",
    "    data.append(ob.pull_the_lever())\n",
    "    \n",
    "plt.hist(data, bins=100)\n",
    "plt.show()"
   ]
  },
  {
   "cell_type": "markdown",
   "metadata": {},
   "source": [
    "### Create K such Bandits"
   ]
  },
  {
   "cell_type": "code",
   "execution_count": 4,
   "metadata": {
    "collapsed": true
   },
   "outputs": [],
   "source": [
    "class KBandits:\n",
    "    \n",
    "    def __init__(self, k=10):\n",
    "        self._bandits = []\n",
    "        self._k = k\n",
    "        \n",
    "        for i in range(k):\n",
    "            self._bandits.append(OneBandit())\n",
    "    \n",
    "    def show_actual_rewards(self):\n",
    "        for i in range(self._k):\n",
    "            print(\"Bandit: {} Actual Reward: {}\".format(i, self._bandits[i]._actual_reward))\n",
    "            \n",
    "    def pull_the_lever(self, bandit_index_0based):\n",
    "        return self._bandits[bandit_index_0based].pull_the_lever()\n",
    "    "
   ]
  },
  {
   "cell_type": "markdown",
   "metadata": {},
   "source": [
    "### Let's check a sample distribution of executing this Bandit"
   ]
  },
  {
   "cell_type": "code",
   "execution_count": 5,
   "metadata": {},
   "outputs": [
    {
     "data": {
      "image/png": "[encoded data removed]",
      "text/plain": [
       "<matplotlib.figure.Figure at 0x7f7777455198>"
      ]
     },
     "metadata": {},
     "output_type": "display_data"
    }
   ],
   "source": [
    "kb = KBandits(k=5)\n",
    "\n",
    "kdata = []\n",
    "\n",
    "for k in range(kb._k):\n",
    "    data = []\n",
    "    for i in range(1000):\n",
    "        data.append(kb.pull_the_lever(k-1))\n",
    "    kdata.append(data)\n",
    "\n",
    "f, axes = plt.subplots(kb._k, sharex=True)\n",
    "\n",
    "for k in range(kb._k):\n",
    "    axes[k].hist(kdata[k], bins=50)\n",
    "    \n",
    "#f.subplots_adjust(hspace=0)\n",
    "f.set_size_inches(10, 10)\n",
    "plt.show()"
   ]
  },
  {
   "cell_type": "code",
   "execution_count": 6,
   "metadata": {},
   "outputs": [
    {
     "name": "stdout",
     "output_type": "stream",
     "text": [
      "Bandit: 0 Actual Reward: -0.6959842774579671\n",
      "Bandit: 1 Actual Reward: 0.31002563293508917\n",
      "Bandit: 2 Actual Reward: 0.921686703032693\n",
      "Bandit: 3 Actual Reward: 0.6424718393565905\n",
      "Bandit: 4 Actual Reward: 0.3926889718091677\n",
      "Bandit: 5 Actual Reward: 1.6269889138263616\n",
      "Bandit: 6 Actual Reward: -0.6660920454253372\n",
      "Bandit: 7 Actual Reward: -0.3842570186112482\n",
      "Bandit: 8 Actual Reward: -0.20333481993478938\n",
      "Bandit: 9 Actual Reward: 0.9433630743642001\n"
     ]
    }
   ],
   "source": [
    "num_bandits = 10 # num actions\n",
    "epsilon = 0.1\n",
    "kb = KBandits(k=num_bandits)\n",
    "kb.show_actual_rewards()"
   ]
  },
  {
   "cell_type": "code",
   "execution_count": 27,
   "metadata": {},
   "outputs": [
    {
     "name": "stdout",
     "output_type": "stream",
     "text": [
      "1.4200624601659777\n",
      "Bandit: 0 Estimated Reward: -0.5218617382201127\n",
      "Bandit: 1 Estimated Reward: 0.431300253637319\n",
      "Bandit: 2 Estimated Reward: 0.5466959655665972\n",
      "Bandit: 3 Estimated Reward: 0.6303486057006755\n",
      "Bandit: 4 Estimated Reward: 0.15837191488276856\n",
      "Bandit: 5 Estimated Reward: 1.5321467152177186\n",
      "Bandit: 6 Estimated Reward: -0.4157279491695077\n",
      "Bandit: 7 Estimated Reward: -0.17637227592812202\n",
      "Bandit: 8 Estimated Reward: 0.18558431648023194\n",
      "Bandit: 9 Estimated Reward: 0.4690842439182874\n"
     ]
    }
   ],
   "source": [
    "action_values = [0.0 for _ in range(num_bandits)]\n",
    "action_count  = [0 for _ in range(num_bandits)]\n",
    "    \n",
    "reward_average = 0\n",
    "stepSize = 0.1\n",
    "step = 0\n",
    "num_iterations = 1000\n",
    "\n",
    "for i in range(num_iterations):\n",
    "    \n",
    "    action = -1\n",
    "    if np.random.binomial(1, 0.1) == 1:\n",
    "        action = np.random.randint(0, num_bandits)\n",
    "    else:\n",
    "        action = np.argmax(action_values)\n",
    "    \n",
    "    reward = kb.pull_the_lever(action)\n",
    "    \n",
    "    step += 1\n",
    "    reward_average = (step - 1.0) / step * reward_average + reward / step\n",
    "    \n",
    "    action_count[action] += 1\n",
    "    action_values[action] = action_values[action] + stepSize * (reward - action_values[action])\n",
    "    \n",
    "    \n",
    "print(reward_average)\n",
    "for i in range(num_bandits):\n",
    "    print(\"Bandit: {0} Estimated Reward: {1}\".format(i, action_values[i]))\n",
    "    "
   ]
  }
 ],
 "metadata": {
  "kernelspec": {
   "display_name": "Python 3",
   "language": "python",
   "name": "python3"
  },
  "language_info": {
   "codemirror_mode": {
    "name": "ipython",
    "version": 3
   },
   "file_extension": ".py",
   "mimetype": "text/x-python",
   "name": "python",
   "nbconvert_exporter": "python",
   "pygments_lexer": "ipython3",
   "version": "3.5.3"
  }
 },
 "nbformat": 4,
 "nbformat_minor": 2
}
